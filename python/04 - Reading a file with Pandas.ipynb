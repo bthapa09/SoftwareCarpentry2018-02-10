{
 "cells": [
  {
   "cell_type": "markdown",
   "metadata": {},
   "source": [
    "Reading a file with Pandas\n",
    "==\n",
    "---"
   ]
  },
  {
   "cell_type": "markdown",
   "metadata": {},
   "source": [
    "Pandas is a library widely used for statistics and analysis\n",
    "* Has functions which allow you to read a file directly into your script\n",
    "* Borrows many feature from R's data frames"
   ]
  },
  {
   "cell_type": "markdown",
   "metadata": {},
   "source": [
    "*   Read a Comma Separate Values (CSV) data file with `pandas.read_csv`.\n",
    "    * Uses the same notation as you used for bash (\"./\" accesses the current folder, \"../\" searches up to the parent folder)\n",
    "    * Argument is the name of the file to be read.\n",
    "    * Assign result to a variable to store the data that was read."
   ]
  },
  {
   "cell_type": "markdown",
   "metadata": {},
   "source": [
    "## Accessing Files\n",
    "\n",
    "We're using the gapminder data that we created yesterday. Remember that these are stored in the shell_lessons directory in a `data` sub-directory, which is why the path to the file is `../shell_lessons/data/gapminder_data/gapminder_final.txt`. If you forget to include `../shell_lessons/`, or if you include it but your copy of the file is somewhere else, you will get a [runtime error]({{ site.github.url }}/05-error-messages/) that ends with a line like this:\n",
    "    ~~~\n",
    "    OSError: File b'gapminder_final.txt' does not exist\n",
    "    ~~~\n",
    "    \n",
    "** Don't forget to use the tab key for auto-completion **\n",
    "    * Auto-complete works in Jupyter notebooks!"
   ]
  },
  {
   "cell_type": "code",
   "execution_count": 26,
   "metadata": {},
   "outputs": [
    {
     "name": "stdout",
     "output_type": "stream",
     "text": [
      "3.141592653589793\n",
      "C:\\Users\\Administrator\\SDC_workshop_2018-02-10\\shell\\python\n"
     ]
    }
   ],
   "source": [
    "# First, import the pandas library\n",
    "import pandas\n",
    "import math\n",
    "import os \n",
    "print(math.pi)\n",
    "print(os.getcwd())"
   ]
  },
  {
   "cell_type": "code",
   "execution_count": 7,
   "metadata": {
    "collapsed": true
   },
   "outputs": [],
   "source": [
    "# Then read the csv\n",
    "# ..  = goes back one directory\n",
    "df = pandas.read_table(\"../data/processed_data/gapminder_data.txt\")\n",
    "#df = pandas.read_table(\"../shell_lessons/data/gapminder_data/gapminder_final.txt\")"
   ]
  },
  {
   "cell_type": "markdown",
   "metadata": {},
   "source": [
    " print the data frame"
   ]
  },
  {
   "cell_type": "code",
   "execution_count": 10,
   "metadata": {},
   "outputs": [
    {
     "name": "stdout",
     "output_type": "stream",
     "text": [
      "          country  year       pop continent lifeExp    gdpPercap\n",
      "0     Afghanistan  1997  22227415      Asia  41.763   635.341351\n",
      "1     Afghanistan  2002  25268405      Asia  42.129  726.7340548\n",
      "2     Afghanistan  2007  31889923      Asia  43.828  974.5803384\n",
      "3     Afghanistan  1952   8425333      Asia  28.801  779.4453145\n",
      "4     Afghanistan  1957   9240934      Asia  30.332  820.8530296\n",
      "5     Afghanistan  1962  10267083      Asia  31.997    853.10071\n",
      "6     Afghanistan  1967  11537966      Asia   34.02  836.1971382\n",
      "7     Afghanistan  1972  13079460      Asia  36.088  739.9811058\n",
      "8     Afghanistan  1977  14880372      Asia  38.438    786.11336\n",
      "9     Afghanistan  1982  12881816      Asia  39.854  978.0114388\n",
      "10    Afghanistan  1987  13867957      Asia  40.822  852.3959448\n",
      "11    Afghanistan  1992  16317921      Asia  41.674  649.3413952\n",
      "12        Albania  1952   1282697    Europe   55.23  1601.056136\n",
      "13        Albania  1957   1476505    Europe   59.28  1942.284244\n",
      "14        Albania  1962   1728137    Europe   64.82  2312.888958\n",
      "15        Albania  1967   1984060    Europe   66.22  2760.196931\n",
      "16        Albania  1972   2263554    Europe   67.69  3313.422188\n",
      "17        Albania  1977   2509048    Europe   68.93   3533.00391\n",
      "18        Albania  1982   2780097    Europe   70.42  3630.880722\n",
      "19        Albania  1987   3075321    Europe      72  3738.932735\n",
      "20        Albania  1992   3326498    Europe  71.581  2497.437901\n",
      "21        Albania  1997   3428038    Europe   72.95  3193.054604\n",
      "22        Albania  2002   3508512    Europe  75.651  4604.211737\n",
      "23        Albania  2007   3600523    Europe  76.423  5937.029526\n",
      "24        Algeria  1962  11000948    Africa  48.303   2550.81688\n",
      "25        Algeria  1967  12760499    Africa  51.407  3246.991771\n",
      "26        Algeria  1972  14760787    Africa  54.518  4182.663766\n",
      "27        Algeria  1977  17152804    Africa  58.014  4910.416756\n",
      "28        Algeria  1982  20033753    Africa  61.368  5745.160213\n",
      "29        Algeria  1952   9279525    Africa  43.077  2449.008185\n",
      "...           ...   ...       ...       ...     ...          ...\n",
      "1675  Yemen, Rep.  1982   9657618      Asia  49.113   1977.55701\n",
      "1676  Yemen, Rep.  1987  11219340      Asia  52.922  1971.741538\n",
      "1677  Yemen, Rep.  1992  13367997      Asia  55.599  1879.496673\n",
      "1678  Yemen, Rep.  1997  15826497      Asia   58.02  2117.484526\n",
      "1679  Yemen, Rep.  2002  18701257      Asia  60.308  2234.820827\n",
      "1680  Yemen, Rep.  2007  22211743      Asia  62.698  2280.769906\n",
      "1681       Zambia  1952   2672000    Africa  42.038  1147.388831\n",
      "1682       Zambia  1957   3016000    Africa  44.077  1311.956766\n",
      "1683       Zambia  1962   3421000    Africa  46.023  1452.725766\n",
      "1684       Zambia  1967   3900000    Africa  47.768  1777.077318\n",
      "1685       Zambia  1972   4506497    Africa  50.107  1773.498265\n",
      "1686       Zambia  1977   5216550    Africa  51.386  1588.688299\n",
      "1687       Zambia  1982   6100407    Africa  51.821  1408.678565\n",
      "1688       Zambia  1987   7272406    Africa  50.821  1213.315116\n",
      "1689       Zambia  1992   8381163    Africa    46.1  1210.884633\n",
      "1690       Zambia  1997   9417789    Africa  40.238  1071.353818\n",
      "1691       Zambia  2002  10595811    Africa  39.193  1071.613938\n",
      "1692       Zambia  2007  11746035    Africa  42.384  1271.211593\n",
      "1693     Zimbabwe  1952   3080907    Africa  48.451  406.8841148\n",
      "1694     Zimbabwe  1957   3646340    Africa  50.469  518.7642681\n",
      "1695     Zimbabwe  1962   4277736    Africa  52.358  527.2721818\n",
      "1696     Zimbabwe  1967   4995432    Africa  53.995  569.7950712\n",
      "1697     Zimbabwe  1972   5861135    Africa  55.635  799.3621758\n",
      "1698     Zimbabwe  1977   6642107    Africa  57.674  685.5876821\n",
      "1699     Zimbabwe  1982   7636524    Africa  60.363  788.8550411\n",
      "1700     Zimbabwe  1987   9216418    Africa  62.351  706.1573059\n",
      "1701     Zimbabwe  1992  10704340    Africa  60.377  693.4207856\n",
      "1702     Zimbabwe  1997  11404948    Africa  46.809  792.4499603\n",
      "1703     Zimbabwe  2002  11926563    Africa  39.989  672.0386227\n",
      "1704     Zimbabwe  2007  12311143    Africa  43.487  469.7092981\n",
      "\n",
      "[1705 rows x 6 columns]\n"
     ]
    }
   ],
   "source": [
    "#df   # if you do df ,then you will see the well arranged file\n",
    "print(df)\n"
   ]
  },
  {
   "cell_type": "markdown",
   "metadata": {},
   "source": [
    "When we load a csv file with Pandas, it get's loaded into a DataFrame.\n",
    "\n",
    "DataFrame is the way Pandas represents a table, and Series is the data-structure Pandas use to represent a column. So, a data frame and series are synonomous with table and column.\n",
    "\n",
    "\n",
    "*   The columns in a data frame are the observed variables, and the rows are the observations.\n",
    "*   Pandas uses backslash `\\` to show wrapped lines when output is too wide to fit the screen."
   ]
  },
  {
   "cell_type": "markdown",
   "metadata": {},
   "source": [
    "---\n",
    "## EtherPad\n",
    "\n",
    "Hypothetically, the data a project you are working on is stored in a file called `microbes.csv`, which is located in a folder called `field_data`. You are doing analysis in a notebook called `analysis.ipynb`in a sibling folder called `thesis`. You're directory structure looks like this:\n",
    "    ~~~\n",
    "    your_home_directory\n",
    "    +-- field_data/\n",
    "    |   +-- microbes.csv\n",
    "    +-- thesis/\n",
    "        +-- analysis.ipynb\n",
    "    ~~~\n",
    "\n",
    "What value(s) should you pass to `read_csv` to read `microbes.csv` in `analysis.ipynb`? Vote for your answer in EtherPad.\n",
    "\n",
    "    a. \"/field_data/microbes.csv\"\n",
    "    b. \"./field_data/microbes.csv\"\n",
    "    c. \"field_data/microbes.csv\"\n",
    "    d. \"../field_data/microbes.csv\"\n",
    "\n",
    "---"
   ]
  },
  {
   "cell_type": "markdown",
   "metadata": {},
   "source": [
    "## Use `DataFrame.info` to find out more about a data frame."
   ]
  },
  {
   "cell_type": "code",
   "execution_count": 11,
   "metadata": {},
   "outputs": [
    {
     "name": "stdout",
     "output_type": "stream",
     "text": [
      "<class 'pandas.core.frame.DataFrame'>\n",
      "RangeIndex: 1705 entries, 0 to 1704\n",
      "Data columns (total 6 columns):\n",
      "country      1705 non-null object\n",
      "year         1705 non-null object\n",
      "pop          1705 non-null object\n",
      "continent    1705 non-null object\n",
      "lifeExp      1705 non-null object\n",
      "gdpPercap    1705 non-null object\n",
      "dtypes: object(6)\n",
      "memory usage: 80.0+ KB\n"
     ]
    }
   ],
   "source": [
    "# Write your code here\n",
    "df.info()"
   ]
  },
  {
   "cell_type": "markdown",
   "metadata": {},
   "source": [
    "## Use `DataFrame.describe` to get summary statistics about data.\n",
    "\n",
    "DataFrame.describe() gets the summary statistics of only the columns that have numerical data. \n",
    "All other columns are ignored."
   ]
  },
  {
   "cell_type": "code",
   "execution_count": 15,
   "metadata": {},
   "outputs": [
    {
     "data": {
      "text/html": [
       "<div>\n",
       "<style>\n",
       "    .dataframe thead tr:only-child th {\n",
       "        text-align: right;\n",
       "    }\n",
       "\n",
       "    .dataframe thead th {\n",
       "        text-align: left;\n",
       "    }\n",
       "\n",
       "    .dataframe tbody tr th {\n",
       "        vertical-align: top;\n",
       "    }\n",
       "</style>\n",
       "<table border=\"1\" class=\"dataframe\">\n",
       "  <thead>\n",
       "    <tr style=\"text-align: right;\">\n",
       "      <th></th>\n",
       "      <th>country</th>\n",
       "      <th>year</th>\n",
       "      <th>pop</th>\n",
       "      <th>continent</th>\n",
       "      <th>lifeExp</th>\n",
       "      <th>gdpPercap</th>\n",
       "    </tr>\n",
       "  </thead>\n",
       "  <tbody>\n",
       "    <tr>\n",
       "      <th>count</th>\n",
       "      <td>1705</td>\n",
       "      <td>1705</td>\n",
       "      <td>1705</td>\n",
       "      <td>1705</td>\n",
       "      <td>1705</td>\n",
       "      <td>1705</td>\n",
       "    </tr>\n",
       "    <tr>\n",
       "      <th>unique</th>\n",
       "      <td>143</td>\n",
       "      <td>13</td>\n",
       "      <td>1705</td>\n",
       "      <td>6</td>\n",
       "      <td>1627</td>\n",
       "      <td>1705</td>\n",
       "    </tr>\n",
       "    <tr>\n",
       "      <th>top</th>\n",
       "      <td>Norway</td>\n",
       "      <td>1962</td>\n",
       "      <td>6990574</td>\n",
       "      <td>Africa</td>\n",
       "      <td>69.39</td>\n",
       "      <td>421.6240257</td>\n",
       "    </tr>\n",
       "    <tr>\n",
       "      <th>freq</th>\n",
       "      <td>12</td>\n",
       "      <td>142</td>\n",
       "      <td>1</td>\n",
       "      <td>624</td>\n",
       "      <td>4</td>\n",
       "      <td>1</td>\n",
       "    </tr>\n",
       "  </tbody>\n",
       "</table>\n",
       "</div>"
      ],
      "text/plain": [
       "       country  year      pop continent lifeExp    gdpPercap\n",
       "count     1705  1705     1705      1705    1705         1705\n",
       "unique     143    13     1705         6    1627         1705\n",
       "top     Norway  1962  6990574    Africa   69.39  421.6240257\n",
       "freq        12   142        1       624       4            1"
      ]
     },
     "execution_count": 15,
     "metadata": {},
     "output_type": "execute_result"
    }
   ],
   "source": [
    "# Write your code here\n",
    "#df.describe()\n",
    "df.describe()"
   ]
  },
  {
   "cell_type": "markdown",
   "metadata": {},
   "source": [
    "---\n",
    "## EtherPad:\n",
    "1. Use the python cell below to find the minimum GDP per capita of all countries in 1972?"
   ]
  },
  {
   "cell_type": "code",
   "execution_count": 14,
   "metadata": {},
   "outputs": [
    {
     "ename": "NameError",
     "evalue": "name 'year' is not defined",
     "output_type": "error",
     "traceback": [
      "\u001b[1;31m---------------------------------------------------------------------------\u001b[0m",
      "\u001b[1;31mNameError\u001b[0m                                 Traceback (most recent call last)",
      "\u001b[1;32m<ipython-input-14-857c505528fc>\u001b[0m in \u001b[0;36m<module>\u001b[1;34m()\u001b[0m\n\u001b[0;32m      1\u001b[0m \u001b[1;31m# Write your code here\u001b[0m\u001b[1;33m\u001b[0m\u001b[1;33m\u001b[0m\u001b[0m\n\u001b[1;32m----> 2\u001b[1;33m \u001b[0mdf\u001b[0m\u001b[1;33m.\u001b[0m\u001b[0mmin\u001b[0m\u001b[1;33m(\u001b[0m\u001b[0myear\u001b[0m\u001b[1;33m==\u001b[0m\u001b[1;36m1972\u001b[0m\u001b[1;33m)\u001b[0m\u001b[1;33m\u001b[0m\u001b[0m\n\u001b[0m",
      "\u001b[1;31mNameError\u001b[0m: name 'year' is not defined"
     ]
    }
   ],
   "source": [
    "# Write your code   "
   ]
  },
  {
   "cell_type": "markdown",
   "metadata": {},
   "source": [
    "Vote for your answer on EtherPad\n",
    "\n",
    "    a. 331.0\n",
    "    b. 372.0\n",
    "    c. 415.0\n",
    "    d. 424.\n",
    "    \n",
    "---"
   ]
  },
  {
   "cell_type": "markdown",
   "metadata": {},
   "source": [
    "## The `DataFrame.columns` variable stores information about the data frame's columns.\n",
    "\n",
    "*   Note that this is a method, *not* a function.\n",
    "    *   Like `math.pi`.\n",
    "    *   So do not use `()` to try to call it."
   ]
  },
  {
   "cell_type": "code",
   "execution_count": 18,
   "metadata": {},
   "outputs": [
    {
     "name": "stdout",
     "output_type": "stream",
     "text": [
      "['country', 'year', 'pop', 'continent', 'lifeExp', 'gdpPercap']\n",
      "       country  year       pop continent lifeExp    gdpPercap\n",
      "1685    Zambia  1972   4506497    Africa  50.107  1773.498265\n",
      "1686    Zambia  1977   5216550    Africa  51.386  1588.688299\n",
      "1687    Zambia  1982   6100407    Africa  51.821  1408.678565\n",
      "1688    Zambia  1987   7272406    Africa  50.821  1213.315116\n",
      "1689    Zambia  1992   8381163    Africa    46.1  1210.884633\n",
      "1690    Zambia  1997   9417789    Africa  40.238  1071.353818\n",
      "1691    Zambia  2002  10595811    Africa  39.193  1071.613938\n",
      "1692    Zambia  2007  11746035    Africa  42.384  1271.211593\n",
      "1693  Zimbabwe  1952   3080907    Africa  48.451  406.8841148\n",
      "1694  Zimbabwe  1957   3646340    Africa  50.469  518.7642681\n",
      "1695  Zimbabwe  1962   4277736    Africa  52.358  527.2721818\n",
      "1696  Zimbabwe  1967   4995432    Africa  53.995  569.7950712\n",
      "1697  Zimbabwe  1972   5861135    Africa  55.635  799.3621758\n",
      "1698  Zimbabwe  1977   6642107    Africa  57.674  685.5876821\n",
      "1699  Zimbabwe  1982   7636524    Africa  60.363  788.8550411\n",
      "1700  Zimbabwe  1987   9216418    Africa  62.351  706.1573059\n",
      "1701  Zimbabwe  1992  10704340    Africa  60.377  693.4207856\n",
      "1702  Zimbabwe  1997  11404948    Africa  46.809  792.4499603\n",
      "1703  Zimbabwe  2002  11926563    Africa  39.989  672.0386227\n",
      "1704  Zimbabwe  2007  12311143    Africa  43.487  469.7092981\n"
     ]
    }
   ],
   "source": [
    "# print out the data frame columns\n",
    "print(df.columns.tolist())\n",
    "print(df.tail(20))"
   ]
  },
  {
   "cell_type": "markdown",
   "metadata": {},
   "source": [
    "## Use `index_col` to specify that a column's values should be used as row headings.\n",
    "\n",
    "*   Row headings are numbers (0 and 1 in this case).\n",
    "*   Really want to index by country.\n",
    "*   Pass the name of the column to `read_csv` as its `index_col` parameter to do this."
   ]
  },
  {
   "cell_type": "code",
   "execution_count": 34,
   "metadata": {},
   "outputs": [
    {
     "data": {
      "text/html": [
       "<div>\n",
       "<style>\n",
       "    .dataframe thead tr:only-child th {\n",
       "        text-align: right;\n",
       "    }\n",
       "\n",
       "    .dataframe thead th {\n",
       "        text-align: left;\n",
       "    }\n",
       "\n",
       "    .dataframe tbody tr th {\n",
       "        vertical-align: top;\n",
       "    }\n",
       "</style>\n",
       "<table border=\"1\" class=\"dataframe\">\n",
       "  <thead>\n",
       "    <tr style=\"text-align: right;\">\n",
       "      <th></th>\n",
       "      <th>year</th>\n",
       "      <th>pop</th>\n",
       "      <th>continent</th>\n",
       "      <th>lifeExp</th>\n",
       "      <th>gdpPercap</th>\n",
       "    </tr>\n",
       "    <tr>\n",
       "      <th>country</th>\n",
       "      <th></th>\n",
       "      <th></th>\n",
       "      <th></th>\n",
       "      <th></th>\n",
       "      <th></th>\n",
       "    </tr>\n",
       "  </thead>\n",
       "  <tbody>\n",
       "    <tr>\n",
       "      <th>Afghanistan</th>\n",
       "      <td>1997</td>\n",
       "      <td>22227415.0</td>\n",
       "      <td>Asia</td>\n",
       "      <td>41.763</td>\n",
       "      <td>635.341351</td>\n",
       "    </tr>\n",
       "    <tr>\n",
       "      <th>Afghanistan</th>\n",
       "      <td>2002</td>\n",
       "      <td>25268405.0</td>\n",
       "      <td>Asia</td>\n",
       "      <td>42.129</td>\n",
       "      <td>726.734055</td>\n",
       "    </tr>\n",
       "    <tr>\n",
       "      <th>Afghanistan</th>\n",
       "      <td>2007</td>\n",
       "      <td>31889923.0</td>\n",
       "      <td>Asia</td>\n",
       "      <td>43.828</td>\n",
       "      <td>974.580338</td>\n",
       "    </tr>\n",
       "    <tr>\n",
       "      <th>Afghanistan</th>\n",
       "      <td>1952</td>\n",
       "      <td>8425333.0</td>\n",
       "      <td>Asia</td>\n",
       "      <td>28.801</td>\n",
       "      <td>779.445314</td>\n",
       "    </tr>\n",
       "    <tr>\n",
       "      <th>Afghanistan</th>\n",
       "      <td>1957</td>\n",
       "      <td>9240934.0</td>\n",
       "      <td>Asia</td>\n",
       "      <td>30.332</td>\n",
       "      <td>820.853030</td>\n",
       "    </tr>\n",
       "  </tbody>\n",
       "</table>\n",
       "</div>"
      ],
      "text/plain": [
       "             year         pop continent  lifeExp   gdpPercap\n",
       "country                                                     \n",
       "Afghanistan  1997  22227415.0      Asia   41.763  635.341351\n",
       "Afghanistan  2002  25268405.0      Asia   42.129  726.734055\n",
       "Afghanistan  2007  31889923.0      Asia   43.828  974.580338\n",
       "Afghanistan  1952   8425333.0      Asia   28.801  779.445314\n",
       "Afghanistan  1957   9240934.0      Asia   30.332  820.853030"
      ]
     },
     "execution_count": 34,
     "metadata": {},
     "output_type": "execute_result"
    }
   ],
   "source": [
    "# re-read in the gapminder data with the \"country\" column/series sa the index_col\n",
    "df=pandas.read_table(\"../../../SDC_workshop_2018-02-10/2018-02-10-Tucson/shell_lessons/data/gapminder_data/gapminder_final.txt\",index_col=\"country\")\n",
    "                       \n",
    "#df = pandas.read_table(\"../shell_lessons/data/gapminder_data/gapminder_final.txt\", index_col=\"country\")\n",
    "df.head()\n",
    "#print(df.head())\n",
    "\n"
   ]
  },
  {
   "cell_type": "markdown",
   "metadata": {},
   "source": [
    "* This is a `DataFrame`\n",
    "* This gives us many rows with the same index value (\"e.g. Afghanistan\")\n",
    "  * Not good practice\n",
    "* lets re-read the table without the index_cols"
   ]
  },
  {
   "cell_type": "code",
   "execution_count": 36,
   "metadata": {},
   "outputs": [
    {
     "data": {
      "text/html": [
       "<div>\n",
       "<style>\n",
       "    .dataframe thead tr:only-child th {\n",
       "        text-align: right;\n",
       "    }\n",
       "\n",
       "    .dataframe thead th {\n",
       "        text-align: left;\n",
       "    }\n",
       "\n",
       "    .dataframe tbody tr th {\n",
       "        vertical-align: top;\n",
       "    }\n",
       "</style>\n",
       "<table border=\"1\" class=\"dataframe\">\n",
       "  <thead>\n",
       "    <tr style=\"text-align: right;\">\n",
       "      <th></th>\n",
       "      <th>country</th>\n",
       "      <th>year</th>\n",
       "      <th>pop</th>\n",
       "      <th>continent</th>\n",
       "      <th>lifeExp</th>\n",
       "      <th>gdpPercap</th>\n",
       "    </tr>\n",
       "  </thead>\n",
       "  <tbody>\n",
       "    <tr>\n",
       "      <th>0</th>\n",
       "      <td>Afghanistan</td>\n",
       "      <td>1997</td>\n",
       "      <td>22227415.0</td>\n",
       "      <td>Asia</td>\n",
       "      <td>41.763</td>\n",
       "      <td>635.341351</td>\n",
       "    </tr>\n",
       "    <tr>\n",
       "      <th>1</th>\n",
       "      <td>Afghanistan</td>\n",
       "      <td>2002</td>\n",
       "      <td>25268405.0</td>\n",
       "      <td>Asia</td>\n",
       "      <td>42.129</td>\n",
       "      <td>726.734055</td>\n",
       "    </tr>\n",
       "    <tr>\n",
       "      <th>2</th>\n",
       "      <td>Afghanistan</td>\n",
       "      <td>2007</td>\n",
       "      <td>31889923.0</td>\n",
       "      <td>Asia</td>\n",
       "      <td>43.828</td>\n",
       "      <td>974.580338</td>\n",
       "    </tr>\n",
       "    <tr>\n",
       "      <th>3</th>\n",
       "      <td>Afghanistan</td>\n",
       "      <td>1952</td>\n",
       "      <td>8425333.0</td>\n",
       "      <td>Asia</td>\n",
       "      <td>28.801</td>\n",
       "      <td>779.445314</td>\n",
       "    </tr>\n",
       "    <tr>\n",
       "      <th>4</th>\n",
       "      <td>Afghanistan</td>\n",
       "      <td>1957</td>\n",
       "      <td>9240934.0</td>\n",
       "      <td>Asia</td>\n",
       "      <td>30.332</td>\n",
       "      <td>820.853030</td>\n",
       "    </tr>\n",
       "  </tbody>\n",
       "</table>\n",
       "</div>"
      ],
      "text/plain": [
       "       country  year         pop continent  lifeExp   gdpPercap\n",
       "0  Afghanistan  1997  22227415.0      Asia   41.763  635.341351\n",
       "1  Afghanistan  2002  25268405.0      Asia   42.129  726.734055\n",
       "2  Afghanistan  2007  31889923.0      Asia   43.828  974.580338\n",
       "3  Afghanistan  1952   8425333.0      Asia   28.801  779.445314\n",
       "4  Afghanistan  1957   9240934.0      Asia   30.332  820.853030"
      ]
     },
     "execution_count": 36,
     "metadata": {},
     "output_type": "execute_result"
    }
   ],
   "source": [
    "# Write your code here\n",
    "df=pandas.read_table(\"../../../SDC_workshop_2018-02-10/2018-02-10-Tucson/shell_lessons/data/gapminder_data/gapminder_final.txt\")\n",
    "df.head()\n"
   ]
  },
  {
   "cell_type": "markdown",
   "metadata": {},
   "source": [
    "## Writing to csv file \n",
    "As well as the `read_table` function for reading data from a file, Pandas can write data frames to files with a `to_****` function.\n",
    "  * Pandas can write data frames to csv, html, excel (xlsx), json, and many more.  \n",
    "    E.g.  \n",
    "    `df.to_csv(\"./my_data.csv'`\n",
    "    "
   ]
  },
  {
   "cell_type": "markdown",
   "metadata": {},
   "source": [
    "---\n",
    "## EXERCISE:\n",
    "1. With the `gapminder_final.txt` file read in as a data frame, write out a copy of the data frame as a csv to a new file called `gapminder_final.csv` in the `data` directory in the `python_lessons` directory (\"./data\").\n",
    "\n",
    "---"
   ]
  },
  {
   "cell_type": "code",
   "execution_count": 37,
   "metadata": {
    "collapsed": true
   },
   "outputs": [],
   "source": [
    "# Write your code here\n",
    "df.to_csv(\"../data/processed_data/gapminder_data.csv\")\n"
   ]
  },
  {
   "cell_type": "markdown",
   "metadata": {},
   "source": [
    "# -- COMMIT YOUR WORK TO GITHUB --"
   ]
  },
  {
   "cell_type": "markdown",
   "metadata": {},
   "source": [
    "---\n",
    "## Keypoints:\n",
    " * Use the Pandas library to do statistics on tabular data.\n",
    " * Use `index_col` to specify that a column's values should be used as row headings.\n",
    " * Use `DataFrame.info` to find out more about a data frame.\n",
    " * The `DataFrame.columns` variable stores information about the data frame's columns.\n",
    " * Use `DataFrame.T` to transpose a data frame.\n",
    " * Use `DataFrame.describe` to get summary statistics about data."
   ]
  }
 ],
 "metadata": {
  "anaconda-cloud": {},
  "kernelspec": {
   "display_name": "Python 3",
   "language": "python",
   "name": "python3"
  },
  "language_info": {
   "codemirror_mode": {
    "name": "ipython",
    "version": 3
   },
   "file_extension": ".py",
   "mimetype": "text/x-python",
   "name": "python",
   "nbconvert_exporter": "python",
   "pygments_lexer": "ipython3",
   "version": "3.6.3"
  }
 },
 "nbformat": 4,
 "nbformat_minor": 2
}
