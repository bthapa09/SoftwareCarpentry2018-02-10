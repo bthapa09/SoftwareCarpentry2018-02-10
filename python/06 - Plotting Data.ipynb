{
 "cells": [
  {
   "cell_type": "markdown",
   "metadata": {},
   "source": [
    "# Plotting Data\n",
    "---\n",
    "## Using the `mapplotlib` library to plot data \n",
    "* `matplotlib` is the most widely used scientific plotting library in Python.\n",
    "*   A commonly use a sub-library called `matplotlib.pyplot`.\n",
    "\n",
    "\n",
    "*   The Jupyter Notebook will render plots inline if we ask it to using a \"magic\" command."
   ]
  },
  {
   "cell_type": "code",
   "execution_count": 6,
   "metadata": {
    "collapsed": true
   },
   "outputs": [],
   "source": [
    "# \"Magic\"\n",
    "# matplotlib has a lib for data visualization \n",
    "# the command below will make notbook display the chart on jupiter screen\n",
    "\n",
    "%matplotlib inline\n",
    "import pandas\n",
    "# Import the matplotlib.pyplot library as plt\n",
    "import matplotlib.pyplot as plt"
   ]
  },
  {
   "cell_type": "markdown",
   "metadata": {},
   "source": [
    "*   Simple plots are then (fairly) simple to create."
   ]
  },
  {
   "cell_type": "code",
   "execution_count": 9,
   "metadata": {},
   "outputs": [
    {
     "data": {
      "text/plain": [
       "Text(0,0.5,'Doubles')"
      ]
     },
     "execution_count": 9,
     "metadata": {},
     "output_type": "execute_result"
    },
    {
     "data": {
      "image/png": "[encoded data removed]",
      "text/plain": [
       "<matplotlib.figure.Figure at 0x9efd438>"
      ]
     },
     "metadata": {},
     "output_type": "display_data"
    }
   ],
   "source": [
    "x = [1, 2, 3, 4, 9]\n",
    "y = [2, 4, 6, 8, 10]\n",
    "\n",
    "plt.plot(x, y)\n",
    "plt.xlabel('Numbers')\n",
    "plt.ylabel('Doubles')"
   ]
  },
  {
   "cell_type": "markdown",
   "metadata": {},
   "source": [
    "## Plot data directly from a Pandas data frame.\n",
    "\n",
    "*   We can also plot Pandas data frames.\n",
    "*   This implicitly uses `matplotlib.pyplot` for its own plot() function."
   ]
  },
  {
   "cell_type": "code",
   "execution_count": 12,
   "metadata": {},
   "outputs": [
    {
     "data": {
      "text/plain": [
       "<matplotlib.axes._subplots.AxesSubplot at 0xa23e550>"
      ]
     },
     "execution_count": 12,
     "metadata": {},
     "output_type": "execute_result"
    },
    {
     "data": {
      "image/png": "[encoded data removed]",
      "text/plain": [
       "<matplotlib.figure.Figure at 0xa145860>"
      ]
     },
     "metadata": {},
     "output_type": "display_data"
    }
   ],
   "source": [
    "df = pandas.read_csv('../data/gapminder_Oceania.csv', index_col='country')\n",
    "#df.loc['Australia']\n",
    "\n",
    "df.loc[\"Australia\",\"gdpPercap_1952\":\"gdpPercap_2007\"].plot()\n",
    "# df.loc -> the .loc will return the country with only Australia. \n"
   ]
  },
  {
   "cell_type": "markdown",
   "metadata": {},
   "source": [
    "Our graph is plotted, but the x axis labels are hard to read. Use the command `plt.xticks(rotation=90)` to rotate those labels.\n",
    "    * Remember that we imported `matplotlib.pyplot` as the alias `plt`"
   ]
  },
  {
   "cell_type": "code",
   "execution_count": null,
   "metadata": {
    "collapsed": true
   },
   "outputs": [],
   "source": [
    "df.loc['Australia'].plot()\n",
    "plt.xticks(rotation=90)"
   ]
  },
  {
   "cell_type": "markdown",
   "metadata": {},
   "source": [
    "## Select and transform data, then plot it.\n",
    "\n",
    "*   By default, `DataFrame.plot` plots with the rows as the X axis.\n",
    "*   We can transpose the data in order to plot multiple series."
   ]
  },
  {
   "cell_type": "code",
   "execution_count": null,
   "metadata": {
    "collapsed": true
   },
   "outputs": [],
   "source": [
    "df.T.plot()\n",
    "plt.ylabel('GDP per capita') # adds a label to our y axis\n",
    "plt.xticks(rotation=90)"
   ]
  },
  {
   "cell_type": "markdown",
   "metadata": {},
   "source": [
    "---\n",
    "## EXERCISE:\n",
    "1. Read in the gapminder asia data and plot the data for Vietnam, Nepal, and \"Mongolia\" across all years\n",
    "\n",
    "---"
   ]
  },
  {
   "cell_type": "markdown",
   "metadata": {},
   "source": [
    "## Customize Axis Names\n",
    "\n",
    "Lets create new label names for our X axis\n",
    "* Extract years from the last four characters of the columns' names.\n",
    "* Store these in a list "
   ]
  },
  {
   "cell_type": "code",
   "execution_count": null,
   "metadata": {
    "collapsed": true
   },
   "outputs": [],
   "source": [
    "# Create an empty list called 'years'\n",
    "\n",
    "\n",
    "# Iterate through the column names, trim only the year off of each, and append it to our new list\n"
   ]
  },
  {
   "cell_type": "markdown",
   "metadata": {},
   "source": [
    "* We can also convert data frame data to a list."
   ]
  },
  {
   "cell_type": "code",
   "execution_count": null,
   "metadata": {
    "collapsed": true
   },
   "outputs": [],
   "source": [
    "# Get a list of all GDP data for Australia data (remember .loc) as list using the .tolist() function\n",
    "\n",
    "# Plot: 'b-' sets the line style.\n",
    "plt.plot(years, gdp_australia, 'b-')"
   ]
  },
  {
   "cell_type": "markdown",
   "metadata": {},
   "source": [
    "* The `'b-'` option in the plot function above sets the line style. Use the help function to learn about more options"
   ]
  },
  {
   "cell_type": "code",
   "execution_count": null,
   "metadata": {
    "collapsed": true
   },
   "outputs": [],
   "source": [
    "help(plt.plot)"
   ]
  },
  {
   "cell_type": "markdown",
   "metadata": {},
   "source": [
    "## Can plot many sets of data together."
   ]
  },
  {
   "cell_type": "code",
   "execution_count": null,
   "metadata": {
    "collapsed": true
   },
   "outputs": [],
   "source": [
    "# Select all of the data for Austrialia\n",
    "gdp_australia = \n",
    "\n",
    "# Select all of the data for New Zealand\n",
    "gdp_nz = \n",
    "\n",
    "# Plot with differently-colored markers.\n",
    "plt.plot(years, gdp_australia, 'b-', label='Australia')\n",
    "plt.plot(years, gdp_nz, 'g-', label='New Zealand')\n",
    "\n",
    "# Create legend.\n",
    "plt.legend(loc='upper left')\n",
    "\n",
    "# Set axis labels\n",
    "plt.xlabel('Year')\n",
    "plt.ylabel('GDP per capita ($)')\n",
    "\n",
    "# Plot with differently-colored markers.\n",
    "plt.plot(years, gdp_australia, 'b-', label='Australia')\n",
    "plt.plot(years, gdp_nz, 'g-', label='New Zealand')"
   ]
  },
  {
   "cell_type": "markdown",
   "metadata": {},
   "source": [
    "---\n",
    "## EXERCISE:\n",
    "1. Create a new plot for Thailand, Nepal, and Mongolia for years after (and including 1982)\n",
    "1. Place the legend in the the bottom right corner.\n",
    "1. Label each axis appropriately\n",
    "1. Give the legend a title\n",
    "\n",
    "---"
   ]
  },
  {
   "cell_type": "markdown",
   "metadata": {},
   "source": [
    "## CREATE A SCATTER PLOT\n",
    "* We can create a different plot style by passing the scatter function to `plt`\n",
    "* Plot a scatter plot correlating the GDP of Australia and New Zealand"
   ]
  },
  {
   "cell_type": "code",
   "execution_count": 13,
   "metadata": {},
   "outputs": [
    {
     "data": {
      "text/plain": [
       "<matplotlib.collections.PathCollection at 0xa632dd8>"
      ]
     },
     "execution_count": 13,
     "metadata": {},
     "output_type": "execute_result"
    },
    {
     "data": {
      "image/png": "[encoded data removed]",
      "text/plain": [
       "<matplotlib.figure.Figure at 0xa3bb780>"
      ]
     },
     "metadata": {},
     "output_type": "display_data"
    }
   ],
   "source": [
    "gdp_australia = df.loc[\"Australia\" ,\"gdpPercap_1952\":\"gdpPercap_2007\"]\n",
    "gdp_nz = df.loc[\"New Zealand\",\"gdpPercap_1952\":\"gdpPercap_2007\"]\n",
    "plt.scatter(gdp_australia, gdp_nz)"
   ]
  },
  {
   "cell_type": "markdown",
   "metadata": {},
   "source": [
    "* We'll need add some labels to these axes"
   ]
  },
  {
   "cell_type": "code",
   "execution_count": 15,
   "metadata": {},
   "outputs": [
    {
     "data": {
      "text/plain": [
       "<matplotlib.axes._subplots.AxesSubplot at 0xa350a58>"
      ]
     },
     "execution_count": 15,
     "metadata": {},
     "output_type": "execute_result"
    },
    {
     "data": {
      "image/png": "[encoded data removed]",
      "text/plain": [
       "<matplotlib.figure.Figure at 0xa389198>"
      ]
     },
     "metadata": {},
     "output_type": "display_data"
    },
    {
     "data": {
      "image/png": "[encoded data removed]",
      "text/plain": [
       "<matplotlib.figure.Figure at 0xa350400>"
      ]
     },
     "metadata": {},
     "output_type": "display_data"
    }
   ],
   "source": [
    "plt.scatter(gdp_australia, gdp_nz)\n",
    "plt.xlabel('Australia')\n",
    "plt.ylabel('New Zealand')\n",
    "\n",
    "# CORRELATION PLOT\n",
    "data_all = pandas.read_csv('../data/gapminder_All.csv')\n",
    "data_all.plot(kind='scatter', x='gdpPercap_2007', y='lifeExp2007',\n",
    "                   s=data_all['pop']/1e6)"
   ]
  },
  {
   "cell_type": "markdown",
   "metadata": {},
   "source": [
    "---\n",
    "## EXERCISE:\n",
    "1. Fill in the blanks below to plot the minimum GDP per capita over time for all the countries in Europe.\n",
    "    ~~~\n",
    "    data_europe = pandas.read_csv('data/gapminder_gdp_europe.csv')\n",
    "    data_europe.____.plot(label='min')\n",
    "    data_europe.max().plot(label=____)\n",
    "    plt.legend(loc='best')\n",
    "    plt.xticks(rotation=90)\n",
    "    ~~~\n",
    "\n",
    "---"
   ]
  },
  {
   "cell_type": "markdown",
   "metadata": {},
   "source": [
    "## Plotting Correlations\n",
    "\n",
    "This short programs creates a plot showing the correlation between GDP and life expectancy for 2007, normalizing marker size by population:\n",
    "\n",
    "    data_all = pandas.read_csv('../data/gapminder_all.csv')\n",
    "    data_all.plot(kind='scatter', x='gdpPercap_2007', y='lifeExp_2007',\n",
    "                   s=data_all['pop_2007']/1e6)\n",
    "\n",
    "Using online help and other resources, explain what each argument to `plot` does.\n",
    "A good place to look is the documentation for the plot function - help(data_all.plot).\n",
    "\n"
   ]
  },
  {
   "cell_type": "markdown",
   "metadata": {},
   "source": [
    ">**kind:**\n",
    "\n",
    ">**x:**\n",
    "\n",
    ">**y:**\n",
    "\n",
    ">**s:**"
   ]
  },
  {
   "cell_type": "markdown",
   "metadata": {},
   "source": [
    "# -- COMMIT TO GITHUB --"
   ]
  },
  {
   "cell_type": "markdown",
   "metadata": {},
   "source": [
    "---\n",
    "# Keypoints:\n",
    " - \"`matplotlib` is the most widely used scientific plotting library in Python.\"\n",
    " - \"Plot data directly from a Pandas data frame.\"\n",
    " - \"Select and transform data, then plot it.\"\n",
    " - \"Many styles of plot are available.\"\n",
    " - \"Can plot many sets of data together.\""
   ]
  }
 ],
 "metadata": {
  "kernelspec": {
   "display_name": "Python 3",
   "language": "python",
   "name": "python3"
  },
  "language_info": {
   "codemirror_mode": {
    "name": "ipython",
    "version": 3
   },
   "file_extension": ".py",
   "mimetype": "text/x-python",
   "name": "python",
   "nbconvert_exporter": "python",
   "pygments_lexer": "ipython3",
   "version": "3.6.3"
  }
 },
 "nbformat": 4,
 "nbformat_minor": 2
}
